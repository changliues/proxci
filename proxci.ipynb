{
 "cells": [
  {
   "cell_type": "code",
   "execution_count": 1,
   "metadata": {},
   "outputs": [],
   "source": [
    "%load_ext autoreload\n",
    "%autoreload 2"
   ]
  },
  {
   "cell_type": "code",
   "execution_count": 2,
   "metadata": {},
   "outputs": [],
   "source": [
    "from proxci import *\n",
    "from datagen import *"
   ]
  },
  {
   "cell_type": "code",
   "execution_count": 3,
   "metadata": {},
   "outputs": [],
   "source": [
    "# generate dataset\n",
    "np.random.seed(1234)\n",
    "n = 1000\n",
    "dataset, target = generate_data(n)"
   ]
  },
  {
   "cell_type": "code",
   "execution_count": 4,
   "metadata": {},
   "outputs": [
    {
     "name": "stdout",
     "output_type": "stream",
     "text": [
      "h, a=0 {'gamma': 1, 'lambda_f': 1, 'lambda_h': 0.001}\n",
      "h, a=1 {'gamma': 1, 'lambda_f': 1, 'lambda_h': 0.001}\n",
      "q, a=0 {'gamma': 1, 'lambda_f': 1, 'lambda_h': 0.01}\n",
      "q, a=1 {'gamma': 1, 'lambda_f': 1, 'lambda_h': 0.01}\n"
     ]
    }
   ],
   "source": [
    "# set up estimator -- estimate all nuisance functions with hyperparameter tuning\n",
    "lambdas = [10**i for i in range(-5, 1, 1)]\n",
    "estimator = ProximalInference(\n",
    "    dataset, lambdas=lambdas, crossfit_folds=1, n_jobs=5, print_best_params=True\n",
    ")"
   ]
  },
  {
   "attachments": {},
   "cell_type": "markdown",
   "metadata": {},
   "source": [
    "### Run estimators"
   ]
  },
  {
   "cell_type": "code",
   "execution_count": 5,
   "metadata": {},
   "outputs": [
    {
     "name": "stdout",
     "output_type": "stream",
     "text": [
      "Ground truth: 2\n",
      "POR: 1.9695729561752853\n",
      "PIPW: 2.099930778095975\n",
      "DR: 1.9142580070934\n"
     ]
    }
   ],
   "source": [
    "print(\"Ground truth:\", target)\n",
    "print(\"POR:\", estimator.por())\n",
    "print(\"PIPW:\", estimator.pipw())\n",
    "print(\"DR:\", estimator.dr())"
   ]
  },
  {
   "attachments": {},
   "cell_type": "markdown",
   "metadata": {},
   "source": [
    "### More detailed metrics"
   ]
  },
  {
   "cell_type": "code",
   "execution_count": 6,
   "metadata": {},
   "outputs": [
    {
     "name": "stdout",
     "output_type": "stream",
     "text": [
      "POR MSE: 1.9329861299377642\n",
      "PIPW MSE: 164.57850656496458\n",
      "DR MSE: 10.93639748256762\n"
     ]
    }
   ],
   "source": [
    "print(\"POR MSE:\", mse(estimator.por(reduction=None), target))\n",
    "print(\"PIPW MSE:\", mse(estimator.pipw(reduction=None), target))\n",
    "print(\"DR MSE:\", mse(estimator.dr(reduction=None), target))"
   ]
  },
  {
   "cell_type": "code",
   "execution_count": 7,
   "metadata": {},
   "outputs": [
    {
     "name": "stdout",
     "output_type": "stream",
     "text": [
      "POR covers: True\n",
      "PIPW is covered: True\n",
      "DR is covered: True\n"
     ]
    }
   ],
   "source": [
    "print(\"POR covers:\", test_coverage(estimator.por(reduction=None), target))\n",
    "print(\"PIPW is covered:\", test_coverage(estimator.pipw(reduction=None), target))\n",
    "print(\"DR is covered:\", test_coverage(estimator.dr(reduction=None), target))"
   ]
  },
  {
   "cell_type": "code",
   "execution_count": null,
   "metadata": {},
   "outputs": [],
   "source": []
  }
 ],
 "metadata": {
  "kernelspec": {
   "display_name": "Python 3.10.4 ('veclib')",
   "language": "python",
   "name": "python3"
  },
  "language_info": {
   "codemirror_mode": {
    "name": "ipython",
    "version": 3
   },
   "file_extension": ".py",
   "mimetype": "text/x-python",
   "name": "python",
   "nbconvert_exporter": "python",
   "pygments_lexer": "ipython3",
   "version": "3.11.5"
  },
  "orig_nbformat": 4,
  "vscode": {
   "interpreter": {
    "hash": "055315a549220fc712dbf36aa41f253b1d38cadd2a4249481d28f3936e3081b3"
   }
  }
 },
 "nbformat": 4,
 "nbformat_minor": 2
}
