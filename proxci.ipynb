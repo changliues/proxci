{
 "cells": [
  {
   "cell_type": "code",
   "execution_count": 1,
   "metadata": {},
   "outputs": [],
   "source": [
    "%load_ext autoreload\n",
    "%autoreload 2"
   ]
  },
  {
   "cell_type": "code",
   "execution_count": 2,
   "metadata": {},
   "outputs": [],
   "source": [
    "from proxci import *\n",
    "from datagen import *"
   ]
  },
  {
   "cell_type": "code",
   "execution_count": 3,
   "metadata": {},
   "outputs": [],
   "source": [
    "# generate dataset\n",
    "np.random.seed(1234)\n",
    "n = 1000\n",
    "dataset, target = generate_data(n)"
   ]
  },
  {
   "cell_type": "code",
   "execution_count": 4,
   "metadata": {},
   "outputs": [
    {
     "name": "stdout",
     "output_type": "stream",
     "text": [
      "h, a=0 {'gamma': 1, 'lambda_f': 1e-05, 'lambda_h': 1e-05}\n",
      "h, a=1 {'gamma': 1, 'lambda_f': 1e-05, 'lambda_h': 1e-05}\n",
      "q, a=0 {'gamma': 1, 'lambda_f': 0.0001, 'lambda_h': 1e-05}\n",
      "q, a=1 {'gamma': 1, 'lambda_f': 0.0001, 'lambda_h': 1e-05}\n"
     ]
    }
   ],
   "source": [
    "# set up estimator -- estimate all nuisance functions with hyperparameter tuning\n",
    "lambdas = [10**i for i in range(-5,1,1)]\n",
    "estimator = ProximalInference(\n",
    "    dataset, lambdas=lambdas, crossfit_folds=1, n_jobs=5, print_best_params=True\n",
    ")"
   ]
  },
  {
   "cell_type": "code",
   "execution_count": 5,
   "metadata": {},
   "outputs": [
    {
     "name": "stdout",
     "output_type": "stream",
     "text": [
      "Ground truth: 2\n",
      "POR: 2.0444336860871895\n",
      "PIPW: 2.4008290397764607\n",
      "DR: 2.0024084971178495\n"
     ]
    }
   ],
   "source": [
    "print(\"Ground truth:\", target)\n",
    "print(\"POR:\", estimator.por())\n",
    "print(\"PIPW:\", estimator.pipw())\n",
    "print(\"DR:\", estimator.dr())"
   ]
  },
  {
   "cell_type": "code",
   "execution_count": null,
   "metadata": {},
   "outputs": [],
   "source": []
  }
 ],
 "metadata": {
  "kernelspec": {
   "display_name": "Python 3.10.4 ('veclib')",
   "language": "python",
   "name": "python3"
  },
  "language_info": {
   "codemirror_mode": {
    "name": "ipython",
    "version": 3
   },
   "file_extension": ".py",
   "mimetype": "text/x-python",
   "name": "python",
   "nbconvert_exporter": "python",
   "pygments_lexer": "ipython3",
   "version": "3.10.8"
  },
  "orig_nbformat": 4,
  "vscode": {
   "interpreter": {
    "hash": "055315a549220fc712dbf36aa41f253b1d38cadd2a4249481d28f3936e3081b3"
   }
  }
 },
 "nbformat": 4,
 "nbformat_minor": 2
}
