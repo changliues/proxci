{
 "cells": [
  {
   "cell_type": "code",
   "execution_count": 1,
   "metadata": {},
   "outputs": [],
   "source": [
    "%load_ext autoreload\n",
    "%autoreload 2"
   ]
  },
  {
   "cell_type": "code",
   "execution_count": 2,
   "metadata": {},
   "outputs": [],
   "source": [
    "from proxci import *\n",
    "from datagen import *"
   ]
  },
  {
   "cell_type": "code",
   "execution_count": 3,
   "metadata": {},
   "outputs": [],
   "source": [
    "# generate dataset\n",
    "np.random.seed(1234)\n",
    "n = 500\n",
    "dataset, target = generate_data(n)"
   ]
  },
  {
   "cell_type": "code",
   "execution_count": 4,
   "metadata": {},
   "outputs": [
    {
     "name": "stdout",
     "output_type": "stream",
     "text": [
      "h, a=0 {'gamma': 0.1, 'lambda_f': 64, 'lambda_h': 0.03125} best score:  -0.010619549261711918\n",
      "h, a=1 {'gamma': 0.1, 'lambda_f': 16, 'lambda_h': 0.03125} best score:  -0.00509198827385908\n",
      "q, a=0 {'gamma': 0.1, 'lambda_f': 64, 'lambda_h': 0.03125} best score:  -0.002260758325297296\n",
      "q, a=1 {'gamma': 0.1, 'lambda_f': 64, 'lambda_h': 0.03125} best score:  -0.003177819800804651\n"
     ]
    }
   ],
   "source": [
    "# set up estimator -- estimate all nuisance functions with hyperparameter tuning\n",
    "gammas = [10**i for i in range(-1, 1, 1)]\n",
    "lambdas = [2**i for i in range(-5, 7, 1)]\n",
    "estimator = ProximalInference(\n",
    "    dataset, gammas=gammas, lambdas=lambdas, crossfit_folds=1, n_jobs=5, print_best_params=True\n",
    ")"
   ]
  },
  {
   "attachments": {},
   "cell_type": "markdown",
   "metadata": {},
   "source": [
    "### Run estimators"
   ]
  },
  {
   "cell_type": "code",
   "execution_count": 5,
   "metadata": {},
   "outputs": [
    {
     "name": "stdout",
     "output_type": "stream",
     "text": [
      "Ground truth: 2\n",
      "POR: 2.0405663229559017\n",
      "PIPW: 2.096729285005572\n",
      "DR: 1.8790710216288964\n"
     ]
    }
   ],
   "source": [
    "print(\"Ground truth:\", target)\n",
    "print(\"POR:\", estimator.por())\n",
    "print(\"PIPW:\", estimator.pipw())\n",
    "print(\"DR:\", estimator.dr())"
   ]
  },
  {
   "attachments": {},
   "cell_type": "markdown",
   "metadata": {},
   "source": [
    "### More detailed metrics"
   ]
  },
  {
   "cell_type": "code",
   "execution_count": 6,
   "metadata": {},
   "outputs": [
    {
     "name": "stdout",
     "output_type": "stream",
     "text": [
      "POR MSE: 0.6569727594116925\n",
      "PIPW MSE: 147.1754654063573\n",
      "DR MSE: 7.947067009261302\n"
     ]
    }
   ],
   "source": [
    "print(\"POR MSE:\", mse(estimator.por(reduction=None), target))\n",
    "print(\"PIPW MSE:\", mse(estimator.pipw(reduction=None), target))\n",
    "print(\"DR MSE:\", mse(estimator.dr(reduction=None), target))"
   ]
  },
  {
   "cell_type": "code",
   "execution_count": 7,
   "metadata": {},
   "outputs": [
    {
     "name": "stdout",
     "output_type": "stream",
     "text": [
      "POR covers: True\n",
      "PIPW is covered: True\n",
      "DR is covered: True\n"
     ]
    }
   ],
   "source": [
    "print(\"POR covers:\", test_coverage(estimator.por(reduction=None), target))\n",
    "print(\"PIPW is covered:\", test_coverage(estimator.pipw(reduction=None), target))\n",
    "print(\"DR is covered:\", test_coverage(estimator.dr(reduction=None), target))"
   ]
  },
  {
   "cell_type": "code",
   "execution_count": null,
   "metadata": {},
   "outputs": [],
   "source": []
  }
 ],
 "metadata": {
  "kernelspec": {
   "display_name": "Python 3.10.4 ('veclib')",
   "language": "python",
   "name": "python3"
  },
  "language_info": {
   "codemirror_mode": {
    "name": "ipython",
    "version": 3
   },
   "file_extension": ".py",
   "mimetype": "text/x-python",
   "name": "python",
   "nbconvert_exporter": "python",
   "pygments_lexer": "ipython3",
   "version": "3.11.5"
  },
  "orig_nbformat": 4,
  "vscode": {
   "interpreter": {
    "hash": "055315a549220fc712dbf36aa41f253b1d38cadd2a4249481d28f3936e3081b3"
   }
  }
 },
 "nbformat": 4,
 "nbformat_minor": 2
}
